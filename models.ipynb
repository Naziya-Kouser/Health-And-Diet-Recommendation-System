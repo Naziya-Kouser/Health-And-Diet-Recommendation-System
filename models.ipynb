{
 "cells": [
  {
   "cell_type": "code",
   "execution_count": 8,
   "id": "f30dc0de-6cbe-4058-9d78-9e3099827fef",
   "metadata": {},
   "outputs": [
    {
     "name": "stdout",
     "output_type": "stream",
     "text": [
      "Logistic Regression Accuracy: 0.415\n",
      "              precision    recall  f1-score   support\n",
      "\n",
      "           0       0.44      0.93      0.59        86\n",
      "           1       0.00      0.00      0.00        47\n",
      "           2       0.18      0.04      0.07        67\n",
      "\n",
      "    accuracy                           0.41       200\n",
      "   macro avg       0.20      0.33      0.22       200\n",
      "weighted avg       0.25      0.41      0.28       200\n",
      "\n"
     ]
    },
    {
     "name": "stderr",
     "output_type": "stream",
     "text": [
      "C:\\Users\\kirut\\AppData\\Local\\Programs\\Python\\Python312\\Lib\\site-packages\\sklearn\\metrics\\_classification.py:1531: UndefinedMetricWarning: Precision is ill-defined and being set to 0.0 in labels with no predicted samples. Use `zero_division` parameter to control this behavior.\n",
      "  _warn_prf(average, modifier, f\"{metric.capitalize()} is\", len(result))\n",
      "C:\\Users\\kirut\\AppData\\Local\\Programs\\Python\\Python312\\Lib\\site-packages\\sklearn\\metrics\\_classification.py:1531: UndefinedMetricWarning: Precision is ill-defined and being set to 0.0 in labels with no predicted samples. Use `zero_division` parameter to control this behavior.\n",
      "  _warn_prf(average, modifier, f\"{metric.capitalize()} is\", len(result))\n",
      "C:\\Users\\kirut\\AppData\\Local\\Programs\\Python\\Python312\\Lib\\site-packages\\sklearn\\metrics\\_classification.py:1531: UndefinedMetricWarning: Precision is ill-defined and being set to 0.0 in labels with no predicted samples. Use `zero_division` parameter to control this behavior.\n",
      "  _warn_prf(average, modifier, f\"{metric.capitalize()} is\", len(result))\n"
     ]
    },
    {
     "name": "stdout",
     "output_type": "stream",
     "text": [
      "Random Forest Accuracy: 0.335\n",
      "              precision    recall  f1-score   support\n",
      "\n",
      "           0       0.41      0.57      0.48        86\n",
      "           1       0.14      0.11      0.12        47\n",
      "           2       0.30      0.19      0.23        67\n",
      "\n",
      "    accuracy                           0.34       200\n",
      "   macro avg       0.28      0.29      0.28       200\n",
      "weighted avg       0.31      0.34      0.31       200\n",
      "\n"
     ]
    },
    {
     "data": {
      "text/plain": [
       "['rf_model.pkl']"
      ]
     },
     "execution_count": 8,
     "metadata": {},
     "output_type": "execute_result"
    }
   ],
   "source": [
    "import pandas as pd\n",
    "from sklearn.model_selection import train_test_split\n",
    "from sklearn.preprocessing import LabelEncoder, StandardScaler\n",
    "from sklearn.linear_model import LogisticRegression\n",
    "from sklearn.ensemble import RandomForestClassifier\n",
    "from sklearn.metrics import accuracy_score, classification_report\n",
    "import joblib\n",
    "\n",
    "df = pd.read_csv(\"data/diet_recommendations_dataset.csv\")\n",
    "\n",
    "# Minimal features\n",
    "features = ['Age', 'Weight_kg', 'Height_cm', 'BMI', 'Daily_Caloric_Intake']\n",
    "target = 'Diet_Recommendation'\n",
    "\n",
    "df = df[features + [target]].dropna()\n",
    "\n",
    "le = LabelEncoder()\n",
    "df[target] = le.fit_transform(df[target])\n",
    "joblib.dump(le, 'diet_label_encoder.pkl')\n",
    "\n",
    "X = df[features]\n",
    "y = df[target]\n",
    "\n",
    "scaler = StandardScaler()\n",
    "X_scaled = scaler.fit_transform(X)\n",
    "joblib.dump(scaler, 'diet_scaler.pkl')\n",
    "\n",
    "X_train, X_test, y_train, y_test = train_test_split(X_scaled, y, test_size=0.2, random_state=42)\n",
    "\n",
    "# Logistic Regression\n",
    "logreg = LogisticRegression()\n",
    "logreg.fit(X_train, y_train)\n",
    "y_pred_lr = logreg.predict(X_test)\n",
    "print(\"Logistic Regression Accuracy:\", accuracy_score(y_test, y_pred_lr))\n",
    "print(classification_report(y_test, y_pred_lr))\n",
    "joblib.dump(logreg, \"logreg_model.pkl\")\n",
    "\n",
    "# Random Forest\n",
    "rf = RandomForestClassifier()\n",
    "rf.fit(X_train, y_train)\n",
    "y_pred_rf = rf.predict(X_test)\n",
    "print(\"Random Forest Accuracy:\", accuracy_score(y_test, y_pred_rf))\n",
    "print(classification_report(y_test, y_pred_rf))\n",
    "joblib.dump(rf, \"rf_model.pkl\")\n"
   ]
  },
  {
   "cell_type": "code",
   "execution_count": 9,
   "id": "28078a21-af38-4178-98ab-fb018961f8b8",
   "metadata": {},
   "outputs": [
    {
     "name": "stdout",
     "output_type": "stream",
     "text": [
      "KMeans clustering done for All_Diets.csv\n"
     ]
    },
    {
     "data": {
      "text/plain": [
       "['kmeans_diets_model.pkl']"
      ]
     },
     "execution_count": 9,
     "metadata": {},
     "output_type": "execute_result"
    }
   ],
   "source": [
    "from sklearn.cluster import KMeans\n",
    "import matplotlib.pyplot as plt\n",
    "\n",
    "df_diets = pd.read_csv(\"data/All_Diets.csv\")\n",
    "df_diets = df_diets[['Protein(g)', 'Carbs(g)', 'Fat(g)']].dropna()\n",
    "\n",
    "scaler_diets = StandardScaler()\n",
    "X_diets = scaler_diets.fit_transform(df_diets)\n",
    "joblib.dump(scaler_diets, 'diet_macro_scaler.pkl')\n",
    "\n",
    "kmeans = KMeans(n_clusters=3, random_state=42)\n",
    "kmeans.fit(X_diets)\n",
    "df_diets['Cluster'] = kmeans.labels_\n",
    "\n",
    "print(\"KMeans clustering done for All_Diets.csv\")\n",
    "joblib.dump(kmeans, \"kmeans_diets_model.pkl\")\n"
   ]
  },
  {
   "cell_type": "code",
   "execution_count": 10,
   "id": "820616d7-6db7-45f3-add4-9d512ff76d80",
   "metadata": {},
   "outputs": [
    {
     "name": "stdout",
     "output_type": "stream",
     "text": [
      "TF-IDF based recipe recommendation model trained.\n"
     ]
    }
   ],
   "source": [
    "from sklearn.feature_extraction.text import TfidfVectorizer\n",
    "from sklearn.neighbors import NearestNeighbors\n",
    "\n",
    "df_recipes = pd.read_csv(\"data/Food_Recipe.csv\")\n",
    "df_recipes = df_recipes[['name', 'description', 'cuisine']].dropna()\n",
    "\n",
    "tfidf = TfidfVectorizer(stop_words='english')\n",
    "X_recipes = tfidf.fit_transform(df_recipes['description'])\n",
    "joblib.dump(tfidf, \"tfidf_recipes.pkl\")\n",
    "\n",
    "nn = NearestNeighbors(n_neighbors=5, metric='cosine')\n",
    "nn.fit(X_recipes)\n",
    "joblib.dump(nn, \"recipe_nn_model.pkl\")\n",
    "df_recipes.to_csv(\"processed_recipes.csv\", index=False)  # needed for querying later\n",
    "\n",
    "print(\"TF-IDF based recipe recommendation model trained.\")\n"
   ]
  },
  {
   "cell_type": "code",
   "execution_count": 11,
   "id": "b806bef1-7033-4ee6-9cfc-ee796c355d6a",
   "metadata": {},
   "outputs": [
    {
     "name": "stdout",
     "output_type": "stream",
     "text": [
      "Fitness dataset cleaned and saved.\n"
     ]
    }
   ],
   "source": [
    "df_fitness = pd.read_csv(\"data/Fitness_Routine.csv\")\n",
    "df_fitness = df_fitness[['Title', 'Desc', 'Type', 'BodyPart', 'Equipment', 'Level']]\n",
    "df_fitness.dropna(inplace=True)\n",
    "df_fitness.to_csv(\"processed_fitness.csv\", index=False)\n",
    "print(\"Fitness dataset cleaned and saved.\")\n"
   ]
  },
  {
   "cell_type": "code",
   "execution_count": null,
   "id": "71e0d352-fe15-4002-ae30-84288c0aea62",
   "metadata": {},
   "outputs": [],
   "source": []
  }
 ],
 "metadata": {
  "kernelspec": {
   "display_name": "Python 3 (ipykernel)",
   "language": "python",
   "name": "python3"
  },
  "language_info": {
   "codemirror_mode": {
    "name": "ipython",
    "version": 3
   },
   "file_extension": ".py",
   "mimetype": "text/x-python",
   "name": "python",
   "nbconvert_exporter": "python",
   "pygments_lexer": "ipython3",
   "version": "3.12.4"
  }
 },
 "nbformat": 4,
 "nbformat_minor": 5
}
